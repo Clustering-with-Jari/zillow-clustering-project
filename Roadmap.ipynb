{
 "cells": [
  {
   "cell_type": "markdown",
   "metadata": {
    "toc": true
   },
   "source": [
    "<h1>Table of Contents<span class=\"tocSkip\"></span></h1>\n",
    "<div class=\"toc\"><ul class=\"toc-item\"><li><span><a href=\"#PROJECT-PLAN\" data-toc-modified-id=\"PROJECT-PLAN-1\"><span class=\"toc-item-num\">1&nbsp;&nbsp;</span>PROJECT PLAN</a></span><ul class=\"toc-item\"><li><span><a href=\"#GOAL\" data-toc-modified-id=\"GOAL-1.1\"><span class=\"toc-item-num\">1.1&nbsp;&nbsp;</span>GOAL</a></span></li><li><span><a href=\"#SUMMARY\" data-toc-modified-id=\"SUMMARY-1.2\"><span class=\"toc-item-num\">1.2&nbsp;&nbsp;</span>SUMMARY</a></span></li><li><span><a href=\"#Data-Dictionary-for-Encoded-Attributes-used-in-Modelling\" data-toc-modified-id=\"Data-Dictionary-for-Encoded-Attributes-used-in-Modelling-1.3\"><span class=\"toc-item-num\">1.3&nbsp;&nbsp;</span>Data Dictionary for Encoded Attributes used in Modelling</a></span></li></ul></li><li><span><a href=\"#DATA-ACQUISITION\" data-toc-modified-id=\"DATA-ACQUISITION-2\"><span class=\"toc-item-num\">2&nbsp;&nbsp;</span>DATA ACQUISITION</a></span><ul class=\"toc-item\"><li><span><a href=\"#DATA-SUMMARY\" data-toc-modified-id=\"DATA-SUMMARY-2.1\"><span class=\"toc-item-num\">2.1&nbsp;&nbsp;</span>DATA SUMMARY</a></span></li></ul></li><li><span><a href=\"#DATA-PREPARATION\" data-toc-modified-id=\"DATA-PREPARATION-3\"><span class=\"toc-item-num\">3&nbsp;&nbsp;</span>DATA PREPARATION</a></span></li><li><span><a href=\"#Explore\" data-toc-modified-id=\"Explore-4\"><span class=\"toc-item-num\">4&nbsp;&nbsp;</span>Explore</a></span></li></ul></div>"
   ]
  },
  {
   "cell_type": "markdown",
   "metadata": {},
   "source": [
    "**TITLE**"
   ]
  },
  {
   "cell_type": "markdown",
   "metadata": {},
   "source": [
    "# PROJECT PLAN"
   ]
  },
  {
   "cell_type": "markdown",
   "metadata": {},
   "source": [
    "- Use clustering to find possible features to predict our target.\n",
    "- Walk through out individual work to combine ideas.\n",
    "- Acquire and prepare zillow data.\n",
    "- Explore data with visuals discuss/combine findings.\n",
    "- Finalize how we want to handle the data.\n",
    "- Try different models then decide what model we want to move forward with."
   ]
  },
  {
   "cell_type": "markdown",
   "metadata": {},
   "source": [
    "## GOAL"
   ]
  },
  {
   "cell_type": "markdown",
   "metadata": {},
   "source": [
    "**Improve our original estimate of the log error by using clustering methodologies.**\n",
    "\n",
    "**Identify the driver of logerror**\n",
    "\n",
    "**Build a model to predict logerror**"
   ]
  },
  {
   "cell_type": "markdown",
   "metadata": {},
   "source": [
    "## SUMMARY"
   ]
  },
  {
   "cell_type": "markdown",
   "metadata": {},
   "source": [
    "## Data Dictionary for Encoded Attributes used in Modelling"
   ]
  },
  {
   "cell_type": "markdown",
   "metadata": {},
   "source": [
    "**PACKAGES**"
   ]
  },
  {
   "cell_type": "code",
   "execution_count": 1,
   "metadata": {},
   "outputs": [],
   "source": [
    "# ignore warnings\n",
    "import warnings\n",
    "warnings.filterwarnings(\"ignore\")\n",
    "\n",
    "# general\n",
    "import pandas as pd\n",
    "import numpy as np\n",
    "\n",
    "# explore/ stat\n",
    "import scipy.stats as stats\n",
    "\n",
    "# vis\n",
    "import matplotlib.pyplot as plt\n",
    "%matplotlib inline\n",
    "import seaborn as sns\n",
    "from mpl_toolkits.mplot3d import Axes3D\n",
    "\n",
    "# default pandas decimal display formatting\n",
    "pd.options.display.float_format='{:20,.2f}'.format\n",
    "\n",
    "# support modules\n",
    "from env import host, user, password\n",
    "import acquire\n",
    "import summarize\n",
    "import prepare\n",
    "import explore\n",
    "\n",
    "# data process\n",
    "from sklearn.preprocessing import scale\n",
    "\n",
    "# model\n",
    "from sklearn.cluster import KMeans\n",
    "from sklearn.cluster import dbscan"
   ]
  },
  {
   "cell_type": "markdown",
   "metadata": {},
   "source": [
    "# DATA ACQUISITION"
   ]
  },
  {
   "cell_type": "markdown",
   "metadata": {},
   "source": [
    "Retrieve from Zillow_db:\n",
    "\n",
    "- Latest trasaction occured within the year of 2017 for each property\n",
    "\n",
    "- Associated logerror\n",
    "\n",
    "- All fields related to each properties\n",
    "\n",
    "- Gather descriptions by joining description tables\n",
    "\n",
    "- Only properties with latitude and longitude\n",
    "\n",
    "- Only single family homes \n",
    "\n",
    "> select single family residential  \n",
    ">\n",
    "> remove unit count = 2 and 3\n",
    ">\n",
    "> exluded house with no bedroom & no bathroom (doesn't count as a house)"
   ]
  },
  {
   "cell_type": "markdown",
   "metadata": {},
   "source": [
    "## DATA SUMMARY"
   ]
  },
  {
   "cell_type": "code",
   "execution_count": null,
   "metadata": {},
   "outputs": [],
   "source": [
    "df.head()"
   ]
  },
  {
   "cell_type": "code",
   "execution_count": null,
   "metadata": {},
   "outputs": [],
   "source": [
    "df.tail()"
   ]
  },
  {
   "cell_type": "code",
   "execution_count": null,
   "metadata": {},
   "outputs": [],
   "source": [
    "df.describe()"
   ]
  },
  {
   "cell_type": "code",
   "execution_count": null,
   "metadata": {},
   "outputs": [],
   "source": [
    "df.shape()"
   ]
  },
  {
   "cell_type": "code",
   "execution_count": null,
   "metadata": {},
   "outputs": [],
   "source": [
    "df.info()"
   ]
  },
  {
   "cell_type": "code",
   "execution_count": null,
   "metadata": {},
   "outputs": [],
   "source": [
    "df.columns"
   ]
  },
  {
   "cell_type": "code",
   "execution_count": null,
   "metadata": {},
   "outputs": [],
   "source": [
    "df.index"
   ]
  },
  {
   "cell_type": "code",
   "execution_count": null,
   "metadata": {},
   "outputs": [],
   "source": [
    "df.__.value_counts()"
   ]
  },
  {
   "cell_type": "code",
   "execution_count": null,
   "metadata": {},
   "outputs": [],
   "source": []
  },
  {
   "cell_type": "markdown",
   "metadata": {},
   "source": [
    "# DATA PREPARATION"
   ]
  },
  {
   "cell_type": "markdown",
   "metadata": {},
   "source": [
    "**1. NULLS/ MISSING VALUES**\n",
    "\n",
    "> df.isnull().sum()\n",
    ">\n",
    "> sklearn.imputer.SimpleImputer()\n",
    "> \n",
    "> fillna()\n",
    "\n",
    "**2. OUTLIERS, DISTRIBUTION, SKEW**\n",
    "\n",
    "sns.FacetGrid\n",
    "\n",
    "sns.PairGrid\n",
    "\n",
    "sns.jointplot\n",
    "\n",
    "sns.boxplot\n",
    "\n",
    "plt.hist()\n",
    "\n",
    "**3. RESHAPE/ ORGANIZE DATA**\n",
    "\n",
    "df.drop(columns = [])\n",
    "\n",
    "pd.melt()\n",
    "\n",
    "pd.concat()\n",
    "\n",
    "df.append()\n",
    "\n",
    "merge()\n",
    "\n",
    "join()\n",
    "\n",
    "df.astype()\n",
    "\n",
    "df.isin()\n",
    "\n",
    "df.where()\n",
    "\n",
    "df.groupby().aggregate()/ .min()/ .max()/...\n",
    "\n",
    "df.reset_index()\n",
    "\n",
    "df.rename()\n",
    "\n",
    "df.drop_duplicates()\n",
    "\n",
    "df.pivot()\n",
    "\n",
    "df.stack()/ .unstack()\n",
    "\n",
    "df.transpose()\n",
    "\n",
    "**4. STANDARDIZING, SCALING**\n",
    "\n",
    "sklearn.preprocessing\n",
    "\n",
    "> need to convert into pandas dataframe!"
   ]
  },
  {
   "cell_type": "markdown",
   "metadata": {},
   "source": [
    "# Explore"
   ]
  },
  {
   "cell_type": "markdown",
   "metadata": {},
   "source": [
    "1. Distribution of logerre\n",
    "2. "
   ]
  }
 ],
 "metadata": {
  "kernelspec": {
   "display_name": "Python 3",
   "language": "python",
   "name": "python3"
  },
  "language_info": {
   "codemirror_mode": {
    "name": "ipython",
    "version": 3
   },
   "file_extension": ".py",
   "mimetype": "text/x-python",
   "name": "python",
   "nbconvert_exporter": "python",
   "pygments_lexer": "ipython3",
   "version": "3.7.3"
  },
  "toc": {
   "base_numbering": 1,
   "nav_menu": {},
   "number_sections": true,
   "sideBar": true,
   "skip_h1_title": false,
   "title_cell": "Table of Contents",
   "title_sidebar": "Contents",
   "toc_cell": true,
   "toc_position": {},
   "toc_section_display": true,
   "toc_window_display": true
  },
  "varInspector": {
   "cols": {
    "lenName": 16,
    "lenType": 16,
    "lenVar": 40
   },
   "kernels_config": {
    "python": {
     "delete_cmd_postfix": "",
     "delete_cmd_prefix": "del ",
     "library": "var_list.py",
     "varRefreshCmd": "print(var_dic_list())"
    },
    "r": {
     "delete_cmd_postfix": ") ",
     "delete_cmd_prefix": "rm(",
     "library": "var_list.r",
     "varRefreshCmd": "cat(var_dic_list()) "
    }
   },
   "types_to_exclude": [
    "module",
    "function",
    "builtin_function_or_method",
    "instance",
    "_Feature"
   ],
   "window_display": false
  }
 },
 "nbformat": 4,
 "nbformat_minor": 2
}
